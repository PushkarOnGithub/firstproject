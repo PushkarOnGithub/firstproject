{
 "cells": [
  {
   "cell_type": "code",
   "execution_count": 1,
   "id": "a10e60e7",
   "metadata": {},
   "outputs": [],
   "source": [
    "import pandas as pd\n"
   ]
  },
  {
   "cell_type": "code",
   "execution_count": 4,
   "id": "8f24d7af",
   "metadata": {},
   "outputs": [],
   "source": [
    "data = pd.read_csv(\"C:\\\\Users\\\\pushk\\\\Downloads\\\\datasetab75fb3\\\\dataset.csv\")"
   ]
  },
  {
   "cell_type": "code",
   "execution_count": 6,
   "id": "a9642c3b",
   "metadata": {},
   "outputs": [
    {
     "data": {
      "text/plain": [
       "Index    pH        Iron          Nitrate    Chloride    Lead           Zinc      Color           Turbidity  Fluoride  Copper    Odor      Sulfate     Conductivity  Chlorine  Manganese     Total Dissolved Solids  Source     Water Temperature  Air Temperature  Month     Day   Time of Day  Target\n",
       "1        6.917863  8.053827e-05  3.734167   227.029851  7.849262e-94   1.245317  Faint Yellow    0.019007   0.622874  0.437835  1.686049  144.010981  432.844908    3.292038  8.024076e-07  284.641984              Lake       15.348981          71.220586        November  26.0  16.0         0         1\n",
       "3970892  5.858315  1.501801e-02  4.240042   69.579303   6.001324e-69   4.378117  Yellow          1.089913   0.827520  0.193677  3.435768  463.045133  133.372250    4.192949  5.083049e-04  184.959614              Aquifer    10.624501          54.722165        February  9.0   5.0          0         1\n",
       "3970852  7.463600  1.731486e-02  5.963622   184.777199  1.439115e-41   0.650131  Near Colorless  0.005572   1.753275  0.937782  2.551141  116.444063  324.131004    2.207808  1.918953e-02  0.971851                River      44.132404          57.893507        June      17.0  7.0          0         1\n",
       "3970853  7.340135  3.235604e-03  4.448112   227.098603  6.750756e-86   3.537866  Colorless       0.078550   1.916077  0.517540  1.557310  169.197017  493.656161    3.387353  1.324444e-02  328.845008              Lake       9.468935           67.836863        August    25.0  14.0         0         1\n",
       "3970854  5.667109  1.267268e-07  8.934573   491.992270  1.887893e-31   2.389866  Faint Yellow    0.562024   3.323367  0.121985  0.136572  124.328232  184.240798    2.814557  4.002699e-02  270.538266              Lake       23.011774          54.915673        July      15.0  9.0          0         1\n",
       "                                                                                                                                                                                                                                                                                                         ..\n",
       "1985612  8.143799  2.708599e-01  20.172306  288.831614  1.094858e-08   1.663399  Near Colorless  1.574695   1.010939  0.521888  0.714465  169.899132  504.490680    4.867944  5.917172e-03  287.512650              Ground     33.247571          77.735576        May       16.0  1.0          1         1\n",
       "1985613  6.871217  1.118109e-01  19.835639  79.651659   9.842413e-154  0.615451  Yellow          0.031226   0.749877  0.674936  1.570149  303.213809  592.826643    3.233736  2.179570e+00  158.529397              Lake       9.729595           47.993848        February  13.0  8.0          1         1\n",
       "1985614  6.907384  6.389025e-02  13.102755  228.156989  6.766538e-156  1.474027  Light Yellow    0.296056   0.232476  1.758732  0.431226  95.354091   352.839705    2.528391  2.146018e-05  373.227520              Aquifer    23.348129          68.114870        May       5.0   10.0         1         1\n",
       "1985615  6.931880  7.006485e+00  8.400924   311.437699  3.931707e-53   1.612089  Near Colorless  0.002776   0.939459  0.515942  0.427005  229.286266  385.239016    3.255135  1.557436e-01  230.266427              Reservoir  17.882070          87.154048        March     2.0   20.0         1         1\n",
       "5956841  7.539523  2.276023e-02  4.902591   106.256430  1.399449e-10   1.069694  Light Yellow    0.371766   0.995846  1.665171  2.530943  79.593261   282.713146    6.033203  2.838596e-01  118.556879              Aquifer    6.594036           51.751181        June      9.0   2.0          1         1\n",
       "Length: 3981800, dtype: int64"
      ]
     },
     "execution_count": 6,
     "metadata": {},
     "output_type": "execute_result"
    }
   ],
   "source": [
    "data.value_counts()"
   ]
  },
  {
   "cell_type": "code",
   "execution_count": 16,
   "id": "8ef74d18",
   "metadata": {},
   "outputs": [],
   "source": [
    "# data.drop(index=6860, inplace=True)"
   ]
  },
  {
   "cell_type": "code",
   "execution_count": 28,
   "id": "a32952d6",
   "metadata": {},
   "outputs": [
    {
     "ename": "KeyError",
     "evalue": "1",
     "output_type": "error",
     "traceback": [
      "\u001b[1;31m---------------------------------------------------------------------------\u001b[0m",
      "\u001b[1;31mKeyError\u001b[0m                                  Traceback (most recent call last)",
      "File \u001b[1;32mC:\\Program Files\\Python311\\Lib\\site-packages\\pandas\\core\\indexes\\base.py:3802\u001b[0m, in \u001b[0;36mIndex.get_loc\u001b[1;34m(self, key, method, tolerance)\u001b[0m\n\u001b[0;32m   3801\u001b[0m \u001b[38;5;28;01mtry\u001b[39;00m:\n\u001b[1;32m-> 3802\u001b[0m     \u001b[38;5;28;01mreturn\u001b[39;00m \u001b[38;5;28;43mself\u001b[39;49m\u001b[38;5;241;43m.\u001b[39;49m\u001b[43m_engine\u001b[49m\u001b[38;5;241;43m.\u001b[39;49m\u001b[43mget_loc\u001b[49m\u001b[43m(\u001b[49m\u001b[43mcasted_key\u001b[49m\u001b[43m)\u001b[49m\n\u001b[0;32m   3803\u001b[0m \u001b[38;5;28;01mexcept\u001b[39;00m \u001b[38;5;167;01mKeyError\u001b[39;00m \u001b[38;5;28;01mas\u001b[39;00m err:\n",
      "File \u001b[1;32mC:\\Program Files\\Python311\\Lib\\site-packages\\pandas\\_libs\\index.pyx:138\u001b[0m, in \u001b[0;36mpandas._libs.index.IndexEngine.get_loc\u001b[1;34m()\u001b[0m\n",
      "File \u001b[1;32mC:\\Program Files\\Python311\\Lib\\site-packages\\pandas\\_libs\\index.pyx:165\u001b[0m, in \u001b[0;36mpandas._libs.index.IndexEngine.get_loc\u001b[1;34m()\u001b[0m\n",
      "File \u001b[1;32mpandas\\_libs\\hashtable_class_helper.pxi:5745\u001b[0m, in \u001b[0;36mpandas._libs.hashtable.PyObjectHashTable.get_item\u001b[1;34m()\u001b[0m\n",
      "File \u001b[1;32mpandas\\_libs\\hashtable_class_helper.pxi:5753\u001b[0m, in \u001b[0;36mpandas._libs.hashtable.PyObjectHashTable.get_item\u001b[1;34m()\u001b[0m\n",
      "\u001b[1;31mKeyError\u001b[0m: 1",
      "\nThe above exception was the direct cause of the following exception:\n",
      "\u001b[1;31mKeyError\u001b[0m                                  Traceback (most recent call last)",
      "Cell \u001b[1;32mIn[28], line 2\u001b[0m\n\u001b[0;32m      1\u001b[0m \u001b[38;5;28;01mfor\u001b[39;00m i \u001b[38;5;129;01min\u001b[39;00m \u001b[38;5;28mrange\u001b[39m(\u001b[38;5;241m1\u001b[39m, \u001b[38;5;241m100\u001b[39m):\n\u001b[1;32m----> 2\u001b[0m     \u001b[38;5;28;01mif\u001b[39;00m \u001b[43mdata\u001b[49m\u001b[43m[\u001b[49m\u001b[43mi\u001b[49m\u001b[43m]\u001b[49m[\u001b[38;5;124m\"\u001b[39m\u001b[38;5;124my\u001b[39m\u001b[38;5;124m\"\u001b[39m] \u001b[38;5;241m<\u001b[39m data[i\u001b[38;5;241m-\u001b[39m\u001b[38;5;241m1\u001b[39m][\u001b[38;5;124m\"\u001b[39m\u001b[38;5;124my\u001b[39m\u001b[38;5;124m\"\u001b[39m]:\n\u001b[0;32m      3\u001b[0m         data\u001b[38;5;241m.\u001b[39mdrop(index \u001b[38;5;241m=\u001b[39m i)\n",
      "File \u001b[1;32mC:\\Program Files\\Python311\\Lib\\site-packages\\pandas\\core\\frame.py:3807\u001b[0m, in \u001b[0;36mDataFrame.__getitem__\u001b[1;34m(self, key)\u001b[0m\n\u001b[0;32m   3805\u001b[0m \u001b[38;5;28;01mif\u001b[39;00m \u001b[38;5;28mself\u001b[39m\u001b[38;5;241m.\u001b[39mcolumns\u001b[38;5;241m.\u001b[39mnlevels \u001b[38;5;241m>\u001b[39m \u001b[38;5;241m1\u001b[39m:\n\u001b[0;32m   3806\u001b[0m     \u001b[38;5;28;01mreturn\u001b[39;00m \u001b[38;5;28mself\u001b[39m\u001b[38;5;241m.\u001b[39m_getitem_multilevel(key)\n\u001b[1;32m-> 3807\u001b[0m indexer \u001b[38;5;241m=\u001b[39m \u001b[38;5;28;43mself\u001b[39;49m\u001b[38;5;241;43m.\u001b[39;49m\u001b[43mcolumns\u001b[49m\u001b[38;5;241;43m.\u001b[39;49m\u001b[43mget_loc\u001b[49m\u001b[43m(\u001b[49m\u001b[43mkey\u001b[49m\u001b[43m)\u001b[49m\n\u001b[0;32m   3808\u001b[0m \u001b[38;5;28;01mif\u001b[39;00m is_integer(indexer):\n\u001b[0;32m   3809\u001b[0m     indexer \u001b[38;5;241m=\u001b[39m [indexer]\n",
      "File \u001b[1;32mC:\\Program Files\\Python311\\Lib\\site-packages\\pandas\\core\\indexes\\base.py:3804\u001b[0m, in \u001b[0;36mIndex.get_loc\u001b[1;34m(self, key, method, tolerance)\u001b[0m\n\u001b[0;32m   3802\u001b[0m     \u001b[38;5;28;01mreturn\u001b[39;00m \u001b[38;5;28mself\u001b[39m\u001b[38;5;241m.\u001b[39m_engine\u001b[38;5;241m.\u001b[39mget_loc(casted_key)\n\u001b[0;32m   3803\u001b[0m \u001b[38;5;28;01mexcept\u001b[39;00m \u001b[38;5;167;01mKeyError\u001b[39;00m \u001b[38;5;28;01mas\u001b[39;00m err:\n\u001b[1;32m-> 3804\u001b[0m     \u001b[38;5;28;01mraise\u001b[39;00m \u001b[38;5;167;01mKeyError\u001b[39;00m(key) \u001b[38;5;28;01mfrom\u001b[39;00m \u001b[38;5;21;01merr\u001b[39;00m\n\u001b[0;32m   3805\u001b[0m \u001b[38;5;28;01mexcept\u001b[39;00m \u001b[38;5;167;01mTypeError\u001b[39;00m:\n\u001b[0;32m   3806\u001b[0m     \u001b[38;5;66;03m# If we have a listlike key, _check_indexing_error will raise\u001b[39;00m\n\u001b[0;32m   3807\u001b[0m     \u001b[38;5;66;03m#  InvalidIndexError. Otherwise we fall through and re-raise\u001b[39;00m\n\u001b[0;32m   3808\u001b[0m     \u001b[38;5;66;03m#  the TypeError.\u001b[39;00m\n\u001b[0;32m   3809\u001b[0m     \u001b[38;5;28mself\u001b[39m\u001b[38;5;241m.\u001b[39m_check_indexing_error(key)\n",
      "\u001b[1;31mKeyError\u001b[0m: 1"
     ]
    }
   ],
   "source": [
    "for i in range(1, 100):\n",
    "    if data[i][\"y\"] < data[i-1][\"y\"]:\n",
    "        data.drop(index = i)"
   ]
  },
  {
   "cell_type": "code",
   "execution_count": 23,
   "id": "c19cf0d8",
   "metadata": {},
   "outputs": [
    {
     "name": "stdout",
     "output_type": "stream",
     "text": [
      "6850\n"
     ]
    }
   ],
   "source": [
    "print(len(data))"
   ]
  },
  {
   "cell_type": "code",
   "execution_count": null,
   "id": "eec7722f",
   "metadata": {},
   "outputs": [],
   "source": []
  }
 ],
 "metadata": {
  "kernelspec": {
   "display_name": "Python 3 (ipykernel)",
   "language": "python",
   "name": "python3"
  },
  "language_info": {
   "codemirror_mode": {
    "name": "ipython",
    "version": 3
   },
   "file_extension": ".py",
   "mimetype": "text/x-python",
   "name": "python",
   "nbconvert_exporter": "python",
   "pygments_lexer": "ipython3",
   "version": "3.11.2"
  }
 },
 "nbformat": 4,
 "nbformat_minor": 5
}
