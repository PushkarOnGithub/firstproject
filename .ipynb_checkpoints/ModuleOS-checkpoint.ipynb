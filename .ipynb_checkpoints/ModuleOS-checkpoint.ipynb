{
 "cells": [
  {
   "cell_type": "code",
   "execution_count": 1,
   "id": "70a7a77a",
   "metadata": {},
   "outputs": [],
   "source": [
    "import os"
   ]
  },
  {
   "cell_type": "code",
   "execution_count": null,
   "id": "ddd3e8eb",
   "metadata": {},
   "outputs": [],
   "source": [
    "print(dir(os))   # printing all methods and attributes in the module"
   ]
  },
  {
   "cell_type": "code",
   "execution_count": null,
   "id": "4212fce1",
   "metadata": {},
   "outputs": [],
   "source": [
    "print(os.getcwd())  # getcwd() stands for fetching cureent working directory"
   ]
  },
  {
   "cell_type": "code",
   "execution_count": null,
   "id": "cf73a01d",
   "metadata": {},
   "outputs": [],
   "source": [
    "# os.chdir('C:\\Users\\pushk\\PycharmProjects\\firstproject')  # changing directory"
   ]
  },
  {
   "cell_type": "code",
   "execution_count": null,
   "id": "ecdf007a",
   "metadata": {},
   "outputs": [],
   "source": [
    "print(os.listdir())  # printing all the files and folders present in the directory"
   ]
  },
  {
   "cell_type": "code",
   "execution_count": null,
   "id": "8c8e8c2d",
   "metadata": {},
   "outputs": [],
   "source": [
    "# os.mkdir('newfolder')  \n",
    "# mkdir() will not create intermediate directories it will only create the final directory"
   ]
  },
  {
   "cell_type": "code",
   "execution_count": null,
   "id": "11ab356a",
   "metadata": {},
   "outputs": [],
   "source": [
    "# os.makedirs('newfolder/newfolder') # making a new directory or folder. makedirs can create multilevel directories if needed"
   ]
  },
  {
   "cell_type": "code",
   "execution_count": null,
   "id": "b7e628e2",
   "metadata": {},
   "outputs": [],
   "source": [
    "# os.rmdir('newfolder/newfolder') # opposite for mkdir removing a folder\n"
   ]
  },
  {
   "cell_type": "code",
   "execution_count": 2,
   "id": "25534372",
   "metadata": {},
   "outputs": [],
   "source": [
    "# os.removedirs('newfolder') # opposite for makedirs"
   ]
  },
  {
   "cell_type": "code",
   "execution_count": null,
   "id": "a6d7a052",
   "metadata": {},
   "outputs": [],
   "source": [
    "os.rename('highscore.txt', 'highscore.txt')"
   ]
  },
  {
   "cell_type": "code",
   "execution_count": null,
   "id": "4d75b615",
   "metadata": {},
   "outputs": [],
   "source": [
    "print(os.stat('highscore.txt'))  # getting the properties of a file\n",
    "print(os.stat('highscore.txt').st_size)"
   ]
  },
  {
   "cell_type": "code",
   "execution_count": 10,
   "id": "ab6952ca",
   "metadata": {},
   "outputs": [
    {
     "name": "stdout",
     "output_type": "stream",
     "text": [
      "Current Path:  D:\\DCIM\\Game media\n",
      "Directories:  ['Battlegrounds India', 'PUBG MOBILE LITE']\n",
      "Files []\n",
      "Current Path:  D:\\DCIM\\Game media\\Battlegrounds India\n",
      "Directories:  []\n",
      "Files ['Battlegrounds India_2021-11-05-15-47-47.mp4']\n",
      "Current Path:  D:\\DCIM\\Game media\\PUBG MOBILE LITE\n",
      "Directories:  []\n",
      "Files ['PUBG MOBILE LITE_2021-05-01-10-47-31.mp4']\n"
     ]
    }
   ],
   "source": [
    "for dirpath, dirnames, filenames in os.walk('D:\\DCIM\\Game media'):   # it walks down a directory and returns 3 value tuple \n",
    "    print(\"Current Path: \", dirpath)\n",
    "    print(\"Directories: \", dirnames)\n",
    "    print(\"Files\", filenames)"
   ]
  },
  {
   "cell_type": "code",
   "execution_count": 12,
   "id": "21cac678",
   "metadata": {},
   "outputs": [
    {
     "name": "stdout",
     "output_type": "stream",
     "text": [
      "environ({'ALLUSERSPROFILE': 'C:\\\\ProgramData', 'APPDATA': 'C:\\\\Users\\\\pushk\\\\AppData\\\\Roaming', 'COMMONPROGRAMFILES': 'C:\\\\Program Files\\\\Common Files', 'COMMONPROGRAMFILES(X86)': 'C:\\\\Program Files (x86)\\\\Common Files', 'COMMONPROGRAMW6432': 'C:\\\\Program Files\\\\Common Files', 'COMPUTERNAME': 'LAPTOP-TTMA5AFC', 'COMSPEC': 'C:\\\\WINDOWS\\\\system32\\\\cmd.exe', 'DB_PASS': 'my_db_pass_123!', 'DB_USER': 'my_db_user', 'DRIVERDATA': 'C:\\\\Windows\\\\System32\\\\Drivers\\\\DriverData', 'HOMEDRIVE': 'C:', 'HOMEPATH': '\\\\Users\\\\pushk', 'LOCALAPPDATA': 'C:\\\\Users\\\\pushk\\\\AppData\\\\Local', 'LOGONSERVER': '\\\\\\\\LAPTOP-TTMA5AFC', 'NUMBER_OF_PROCESSORS': '8', 'ONEDRIVE': 'C:\\\\Users\\\\pushk\\\\OneDrive', 'ONEDRIVECONSUMER': 'C:\\\\Users\\\\pushk\\\\OneDrive', 'OS': 'Windows_NT', 'PATH': 'C:\\\\Python310\\\\Scripts\\\\;C:\\\\Python310\\\\;C:\\\\Program Files (x86)\\\\NVIDIA Corporation\\\\PhysX\\\\Common;C:\\\\New folder\\\\Scripts\\\\;C:\\\\New folder\\\\;C:\\\\WINDOWS\\\\system32;C:\\\\WINDOWS;C:\\\\WINDOWS\\\\System32\\\\Wbem;C:\\\\WINDOWS\\\\System32\\\\WindowsPowerShell\\\\v1.0\\\\;C:\\\\WINDOWS\\\\System32\\\\OpenSSH\\\\;C:\\\\Program Files (x86)\\\\Windows Kits\\\\8.1\\\\Windows Performance Toolkit\\\\;C:\\\\MinGW\\\\bin;C:\\\\Program Files\\\\Microsoft SQL Server\\\\Client SDK\\\\ODBC\\\\110\\\\Tools\\\\Binn\\\\;C:\\\\Program Files (x86)\\\\Microsoft SQL Server\\\\120\\\\Tools\\\\Binn\\\\;C:\\\\Program Files\\\\Microsoft SQL Server\\\\120\\\\Tools\\\\Binn\\\\;C:\\\\Program Files\\\\Microsoft SQL Server\\\\120\\\\DTS\\\\Binn\\\\;C:\\\\Users\\\\pushk\\\\AppData\\\\Local\\\\Microsoft\\\\WindowsApps;C:\\\\Users\\\\pushk\\\\AppData\\\\Local\\\\Programs\\\\Microsoft VS Code\\\\bin;C:\\\\MinGW\\\\bin;', 'PATHEXT': '.COM;.EXE;.BAT;.CMD;.VBS;.VBE;.JS;.JSE;.WSF;.WSH;.MSC;.PY;.PYW', 'PROCESSOR_ARCHITECTURE': 'AMD64', 'PROCESSOR_IDENTIFIER': 'Intel64 Family 6 Model 140 Stepping 1, GenuineIntel', 'PROCESSOR_LEVEL': '6', 'PROCESSOR_REVISION': '8c01', 'PROGRAMDATA': 'C:\\\\ProgramData', 'PROGRAMFILES': 'C:\\\\Program Files', 'PROGRAMFILES(X86)': 'C:\\\\Program Files (x86)', 'PROGRAMW6432': 'C:\\\\Program Files', 'PROMPT': '$P$G', 'PSMODULEPATH': 'C:\\\\Program Files\\\\WindowsPowerShell\\\\Modules;C:\\\\WINDOWS\\\\system32\\\\WindowsPowerShell\\\\v1.0\\\\Modules;C:\\\\Program Files (x86)\\\\Microsoft SQL Server\\\\120\\\\Tools\\\\PowerShell\\\\Modules\\\\', 'PUBLIC': 'C:\\\\Users\\\\Public', 'SESSIONNAME': 'Console', 'SW_SIM_HYDRA': 'C:\\\\Program Files\\\\Common Files\\\\SolidWorks Shared\\\\Simulation Worker Agent\\\\', 'SW_SIM_MPIT': 'INTELMPI', 'SW_SIM_TEMP': 'C:\\\\ProgramData\\\\SOLIDWORKS\\\\SW_net_sim_temp\\\\', 'SYSTEMDRIVE': 'C:', 'SYSTEMROOT': 'C:\\\\WINDOWS', 'TEMP': 'C:\\\\Users\\\\pushk\\\\AppData\\\\Local\\\\Temp', 'TMP': 'C:\\\\Users\\\\pushk\\\\AppData\\\\Local\\\\Temp', 'USERDOMAIN': 'LAPTOP-TTMA5AFC', 'USERDOMAIN_ROAMINGPROFILE': 'LAPTOP-TTMA5AFC', 'USERNAME': 'pushk', 'USERPROFILE': 'C:\\\\Users\\\\pushk', 'WINDIR': 'C:\\\\WINDOWS', 'ZES_ENABLE_SYSMAN': '1', 'JPY_INTERRUPT_EVENT': '2524', 'IPY_INTERRUPT_EVENT': '2524', 'JPY_PARENT_PID': '2528', 'TERM': 'xterm-color', 'CLICOLOR': '1', 'PAGER': 'cat', 'GIT_PAGER': 'cat', 'MPLBACKEND': 'module://matplotlib_inline.backend_inline'})\n",
      "\\Users\\pushk\n"
     ]
    }
   ],
   "source": [
    "print(os.environ)  # accessing environment variables of the computer\n",
    "print(os.environ.get('HOMEPATH'))"
   ]
  },
  {
   "cell_type": "code",
   "execution_count": 13,
   "id": "16936df9",
   "metadata": {},
   "outputs": [
    {
     "name": "stdout",
     "output_type": "stream",
     "text": [
      "\\Users\\pushk\\text.txt\n"
     ]
    }
   ],
   "source": [
    "file_path = os.path.join(os.environ.get('HOMEPATH'), 'text.txt') # joining two paths without worrying about the commas and slashes\n",
    "print(file_path)"
   ]
  },
  {
   "cell_type": "code",
   "execution_count": 15,
   "id": "9d0e4234",
   "metadata": {},
   "outputs": [
    {
     "name": "stdout",
     "output_type": "stream",
     "text": [
      "text.txt\n",
      "/tmp\n"
     ]
    }
   ],
   "source": [
    "print(os.path.basename('/tmp/text.txt'))  # basename()  returns name of the target file\n",
    "print(os.path.dirname('/tmp/text.txt'))  # dirname() returns name of the directory"
   ]
  },
  {
   "cell_type": "code",
   "execution_count": null,
   "id": "9ab52007",
   "metadata": {},
   "outputs": [],
   "source": [
    "print(os.path.split('/tmp/text.txt'))  # split() returns a tuple containing each step of the directory"
   ]
  },
  {
   "cell_type": "code",
   "execution_count": 17,
   "id": "a8a82175",
   "metadata": {},
   "outputs": [
    {
     "name": "stdout",
     "output_type": "stream",
     "text": [
      "False\n",
      "False\n",
      "False\n"
     ]
    }
   ],
   "source": [
    "print(os.path.exists('/tmp/text.txt')) # checks if the file/directory exists or not\n",
    "print(os.path.isdir('/tmp/text.txt'))  # checks if the directory exists\n",
    "print(os.path.isdir('/tmp/text.txt'))  # checks if the file exists"
   ]
  },
  {
   "cell_type": "code",
   "execution_count": null,
   "id": "f70d423a",
   "metadata": {},
   "outputs": [],
   "source": [
    "print(os.path.splitext('/tmp/text.txt'))  # splits the extension name of the file"
   ]
  },
  {
   "cell_type": "code",
   "execution_count": null,
   "id": "96c4e34c",
   "metadata": {},
   "outputs": [],
   "source": []
  }
 ],
 "metadata": {
  "kernelspec": {
   "display_name": "Python 3 (ipykernel)",
   "language": "python",
   "name": "python3"
  },
  "language_info": {
   "codemirror_mode": {
    "name": "ipython",
    "version": 3
   },
   "file_extension": ".py",
   "mimetype": "text/x-python",
   "name": "python",
   "nbconvert_exporter": "python",
   "pygments_lexer": "ipython3",
   "version": "3.10.6"
  }
 },
 "nbformat": 4,
 "nbformat_minor": 5
}
