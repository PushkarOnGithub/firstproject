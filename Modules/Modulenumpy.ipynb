{
 "cells": [
  {
   "cell_type": "code",
   "execution_count": 26,
   "id": "d7a43d9a",
   "metadata": {},
   "outputs": [],
   "source": [
    "import numpy\n"
   ]
  },
  {
   "cell_type": "markdown",
   "id": "6cd15a95",
   "metadata": {},
   "source": [
    "**Array Creation: Conversion from other Python structures**\n"
   ]
  },
  {
   "cell_type": "code",
   "execution_count": 27,
   "id": "8b4c32b3",
   "metadata": {},
   "outputs": [
    {
     "data": {
      "text/plain": [
       "array([[1, 2, 3],\n",
       "       [4, 5, 6],\n",
       "       [7, 8, 9]])"
      ]
     },
     "execution_count": 27,
     "metadata": {},
     "output_type": "execute_result"
    }
   ],
   "source": [
    "listarray = numpy.array([[1, 2, 3], [4, 5, 6], [7, 8, 9]])\n",
    "listarray\n"
   ]
  },
  {
   "cell_type": "code",
   "execution_count": 28,
   "id": "30ad2a44",
   "metadata": {},
   "outputs": [
    {
     "data": {
      "text/plain": [
       "dtype('int32')"
      ]
     },
     "execution_count": 28,
     "metadata": {},
     "output_type": "execute_result"
    }
   ],
   "source": [
    "listarray.dtype\n"
   ]
  },
  {
   "cell_type": "code",
   "execution_count": 29,
   "id": "e5f6f5b2",
   "metadata": {},
   "outputs": [
    {
     "data": {
      "text/plain": [
       "(3, 3)"
      ]
     },
     "execution_count": 29,
     "metadata": {},
     "output_type": "execute_result"
    }
   ],
   "source": [
    "listarray.shape\n"
   ]
  },
  {
   "cell_type": "code",
   "execution_count": 30,
   "id": "d6869e76",
   "metadata": {},
   "outputs": [
    {
     "data": {
      "text/plain": [
       "9"
      ]
     },
     "execution_count": 30,
     "metadata": {},
     "output_type": "execute_result"
    }
   ],
   "source": [
    "listarray.size"
   ]
  },
  {
   "cell_type": "markdown",
   "id": "0f239bdf",
   "metadata": {},
   "source": [
    "*zeros will create an array of given dimension*"
   ]
  },
  {
   "cell_type": "code",
   "execution_count": 31,
   "id": "7234f1a0",
   "metadata": {},
   "outputs": [
    {
     "data": {
      "text/plain": [
       "array([[0., 0., 0., 0., 0.],\n",
       "       [0., 0., 0., 0., 0.]])"
      ]
     },
     "execution_count": 31,
     "metadata": {},
     "output_type": "execute_result"
    }
   ],
   "source": [
    "zeros = numpy.zeros((2,5))\n",
    "zeros"
   ]
  },
  {
   "cell_type": "markdown",
   "id": "251ac470",
   "metadata": {},
   "source": [
    "*arange is just like python range function*"
   ]
  },
  {
   "cell_type": "code",
   "execution_count": 32,
   "id": "7dcb97cd",
   "metadata": {},
   "outputs": [
    {
     "name": "stdout",
     "output_type": "stream",
     "text": [
      "[ 0  1  2  3  4  5  6  7  8  9 10 11 12 13 14]\n"
     ]
    }
   ],
   "source": [
    "rng = numpy.arange(15)\n",
    "print(rng)"
   ]
  },
  {
   "cell_type": "markdown",
   "id": "042503e7",
   "metadata": {},
   "source": [
    "*linspace creates numbers equally spaced in between two given numbers*"
   ]
  },
  {
   "cell_type": "code",
   "execution_count": 33,
   "id": "cfcede44",
   "metadata": {},
   "outputs": [
    {
     "name": "stdout",
     "output_type": "stream",
     "text": [
      "[ 1.          2.28571429  3.57142857  4.85714286  6.14285714  7.42857143\n",
      "  8.71428571 10.        ]\n",
      "[ 1.     2.125  3.25   4.375  5.5    6.625  7.75   8.875 10.   ]\n"
     ]
    },
    {
     "data": {
      "text/plain": [
       "array([ 1.,  2.,  3.,  4.,  5.,  6.,  7.,  8.,  9., 10.])"
      ]
     },
     "execution_count": 33,
     "metadata": {},
     "output_type": "execute_result"
    }
   ],
   "source": [
    "\n",
    "lspace = numpy.linspace(1, 10, 8)\n",
    "lspace2 = numpy.linspace(1, 10, 9)\n",
    "lspace3 = numpy.linspace(1, 10, 10)\n",
    "print(lspace)\n",
    "print(lspace2)\n",
    "lspace3"
   ]
  },
  {
   "cell_type": "markdown",
   "id": "bc96bc04",
   "metadata": {},
   "source": [
    "*generate random numbers array*"
   ]
  },
  {
   "cell_type": "code",
   "execution_count": 38,
   "id": "01dc2fc8",
   "metadata": {},
   "outputs": [],
   "source": [
    "emp = numpy.empty((4,6))\n"
   ]
  },
  {
   "cell_type": "code",
   "execution_count": 39,
   "id": "0ee1bdc2",
   "metadata": {},
   "outputs": [
    {
     "data": {
      "text/plain": [
       "array([[1.33135947e-311, 7.60861095e-322, 0.00000000e+000,\n",
       "        0.00000000e+000, 1.11261027e-306, 1.16095484e-028],\n",
       "       [9.31115457e+242, 4.52341894e+257, 2.59345444e+161,\n",
       "        2.99938059e-067, 1.72854786e-056, 5.47033815e-095],\n",
       "       [1.05234357e-153, 6.80081107e+199, 2.95162258e+137,\n",
       "        1.96100257e+243, 4.27255707e+180, 9.31115457e+242],\n",
       "       [2.16209973e+233, 2.87520342e+161, 4.61968666e+281,\n",
       "        6.32672800e+180, 4.74483502e+170, 4.59210323e-072]])"
      ]
     },
     "execution_count": 39,
     "metadata": {},
     "output_type": "execute_result"
    }
   ],
   "source": [
    "emp"
   ]
  },
  {
   "cell_type": "code",
   "execution_count": 40,
   "id": "c265e071",
   "metadata": {},
   "outputs": [],
   "source": [
    "emp_like = numpy.empty_like(lspace)"
   ]
  },
  {
   "cell_type": "code",
   "execution_count": 41,
   "id": "ab9f7c29",
   "metadata": {},
   "outputs": [
    {
     "data": {
      "text/plain": [
       "array([ 1.        ,  2.28571429,  3.57142857,  4.85714286,  6.14285714,\n",
       "        7.42857143,  8.71428571, 10.        ])"
      ]
     },
     "execution_count": 41,
     "metadata": {},
     "output_type": "execute_result"
    }
   ],
   "source": [
    "emp_like"
   ]
  },
  {
   "cell_type": "code",
   "execution_count": 42,
   "id": "ea1fc493",
   "metadata": {},
   "outputs": [],
   "source": [
    "ide = numpy.identity(45)"
   ]
  },
  {
   "cell_type": "code",
   "execution_count": 43,
   "id": "40655741",
   "metadata": {},
   "outputs": [
    {
     "data": {
      "text/plain": [
       "array([[1., 0., 0., ..., 0., 0., 0.],\n",
       "       [0., 1., 0., ..., 0., 0., 0.],\n",
       "       [0., 0., 1., ..., 0., 0., 0.],\n",
       "       ...,\n",
       "       [0., 0., 0., ..., 1., 0., 0.],\n",
       "       [0., 0., 0., ..., 0., 1., 0.],\n",
       "       [0., 0., 0., ..., 0., 0., 1.]])"
      ]
     },
     "execution_count": 43,
     "metadata": {},
     "output_type": "execute_result"
    }
   ],
   "source": [
    "ide"
   ]
  },
  {
   "cell_type": "code",
   "execution_count": 44,
   "id": "f623a88d",
   "metadata": {},
   "outputs": [],
   "source": [
    "arr = numpy.arange(99)"
   ]
  },
  {
   "cell_type": "code",
   "execution_count": 45,
   "id": "103a2c0d",
   "metadata": {},
   "outputs": [
    {
     "data": {
      "text/plain": [
       "array([[ 0,  1,  2,  3,  4,  5,  6,  7,  8,  9, 10, 11, 12, 13, 14, 15,\n",
       "        16, 17, 18, 19, 20, 21, 22, 23, 24, 25, 26, 27, 28, 29, 30, 31,\n",
       "        32],\n",
       "       [33, 34, 35, 36, 37, 38, 39, 40, 41, 42, 43, 44, 45, 46, 47, 48,\n",
       "        49, 50, 51, 52, 53, 54, 55, 56, 57, 58, 59, 60, 61, 62, 63, 64,\n",
       "        65],\n",
       "       [66, 67, 68, 69, 70, 71, 72, 73, 74, 75, 76, 77, 78, 79, 80, 81,\n",
       "        82, 83, 84, 85, 86, 87, 88, 89, 90, 91, 92, 93, 94, 95, 96, 97,\n",
       "        98]])"
      ]
     },
     "execution_count": 45,
     "metadata": {},
     "output_type": "execute_result"
    }
   ],
   "source": [
    "arr.reshape(3, 33)"
   ]
  },
  {
   "cell_type": "code",
   "execution_count": 46,
   "id": "fb437b99",
   "metadata": {},
   "outputs": [
    {
     "data": {
      "text/plain": [
       "array([ 0,  1,  2,  3,  4,  5,  6,  7,  8,  9, 10, 11, 12, 13, 14, 15, 16,\n",
       "       17, 18, 19, 20, 21, 22, 23, 24, 25, 26, 27, 28, 29, 30, 31, 32, 33,\n",
       "       34, 35, 36, 37, 38, 39, 40, 41, 42, 43, 44, 45, 46, 47, 48, 49, 50,\n",
       "       51, 52, 53, 54, 55, 56, 57, 58, 59, 60, 61, 62, 63, 64, 65, 66, 67,\n",
       "       68, 69, 70, 71, 72, 73, 74, 75, 76, 77, 78, 79, 80, 81, 82, 83, 84,\n",
       "       85, 86, 87, 88, 89, 90, 91, 92, 93, 94, 95, 96, 97, 98])"
      ]
     },
     "execution_count": 46,
     "metadata": {},
     "output_type": "execute_result"
    }
   ],
   "source": [
    "arr.ravel()"
   ]
  },
  {
   "cell_type": "code",
   "execution_count": 52,
   "id": "9e1a4ced",
   "metadata": {},
   "outputs": [],
   "source": [
    "ar = numpy.array([[1, 2, 3], [4, 5, 6], [7, 1, 0]])"
   ]
  },
  {
   "cell_type": "code",
   "execution_count": 54,
   "id": "0d4118f4",
   "metadata": {},
   "outputs": [
    {
     "data": {
      "text/plain": [
       "array([12,  8,  9])"
      ]
     },
     "execution_count": 54,
     "metadata": {},
     "output_type": "execute_result"
    }
   ],
   "source": [
    "ar.sum(axis = 0)"
   ]
  },
  {
   "cell_type": "code",
   "execution_count": 55,
   "id": "e885498a",
   "metadata": {},
   "outputs": [
    {
     "data": {
      "text/plain": [
       "array([ 6, 15,  8])"
      ]
     },
     "execution_count": 55,
     "metadata": {},
     "output_type": "execute_result"
    }
   ],
   "source": [
    "ar.sum(axis = 1)"
   ]
  },
  {
   "cell_type": "markdown",
   "id": "9d3c9701",
   "metadata": {},
   "source": [
    "*transpose*"
   ]
  },
  {
   "cell_type": "code",
   "execution_count": 56,
   "id": "4ffafd86",
   "metadata": {},
   "outputs": [
    {
     "data": {
      "text/plain": [
       "array([[1, 4, 7],\n",
       "       [2, 5, 1],\n",
       "       [3, 6, 0]])"
      ]
     },
     "execution_count": 56,
     "metadata": {},
     "output_type": "execute_result"
    }
   ],
   "source": [
    "ar.T"
   ]
  },
  {
   "cell_type": "code",
   "execution_count": 57,
   "id": "280a5889",
   "metadata": {},
   "outputs": [
    {
     "data": {
      "text/plain": [
       "<numpy.flatiter at 0x2736c56bed0>"
      ]
     },
     "execution_count": 57,
     "metadata": {},
     "output_type": "execute_result"
    }
   ],
   "source": [
    "ar.flat"
   ]
  },
  {
   "cell_type": "code",
   "execution_count": 58,
   "id": "2a1b7b1d",
   "metadata": {},
   "outputs": [
    {
     "name": "stdout",
     "output_type": "stream",
     "text": [
      "1\n",
      "2\n",
      "3\n",
      "4\n",
      "5\n",
      "6\n",
      "7\n",
      "1\n",
      "0\n"
     ]
    }
   ],
   "source": [
    "for item in ar.flat:\n",
    "    print(item)"
   ]
  },
  {
   "cell_type": "markdown",
   "id": "6d4a201b",
   "metadata": {},
   "source": [
    "*number of dimensions*"
   ]
  },
  {
   "cell_type": "code",
   "execution_count": 59,
   "id": "3585030e",
   "metadata": {},
   "outputs": [
    {
     "data": {
      "text/plain": [
       "2"
      ]
     },
     "execution_count": 59,
     "metadata": {},
     "output_type": "execute_result"
    }
   ],
   "source": [
    "ar.ndim"
   ]
  },
  {
   "cell_type": "code",
   "execution_count": 60,
   "id": "2b49f9d0",
   "metadata": {},
   "outputs": [],
   "source": [
    "one = numpy.array([1, 66, 42, 76])"
   ]
  },
  {
   "cell_type": "code",
   "execution_count": 61,
   "id": "a2a894d3",
   "metadata": {},
   "outputs": [
    {
     "data": {
      "text/plain": [
       "3"
      ]
     },
     "execution_count": 61,
     "metadata": {},
     "output_type": "execute_result"
    }
   ],
   "source": [
    "one.argmax()"
   ]
  },
  {
   "cell_type": "code",
   "execution_count": null,
   "id": "52c89493",
   "metadata": {},
   "outputs": [],
   "source": []
  }
 ],
 "metadata": {
  "kernelspec": {
   "display_name": "Python 3.10.6 64-bit",
   "language": "python",
   "name": "python3"
  },
  "language_info": {
   "codemirror_mode": {
    "name": "ipython",
    "version": 3
   },
   "file_extension": ".py",
   "mimetype": "text/x-python",
   "name": "python",
   "nbconvert_exporter": "python",
   "pygments_lexer": "ipython3",
   "version": "3.10.6"
  },
  "vscode": {
   "interpreter": {
    "hash": "369f2c481f4da34e4445cda3fffd2e751bd1c4d706f27375911949ba6bb62e1c"
   }
  }
 },
 "nbformat": 4,
 "nbformat_minor": 5
}
